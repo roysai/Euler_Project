{
 "cells": [
  {
   "cell_type": "markdown",
   "metadata": {},
   "source": [
    "Surprisingly there are only three numbers that can be written as the sum of fourth powers of their digits:\n",
    "\n",
    "1634 = 14 + 64 + 34 + 44\n",
    "8208 = 84 + 24 + 04 + 84\n",
    "9474 = 94 + 44 + 74 + 44\n",
    "As 1 = 14 is not a sum it is not included.\n",
    "\n",
    "The sum of these numbers is 1634 + 8208 + 9474 = 19316.\n",
    "\n",
    "Find the sum of all the numbers that can be written as the sum of fifth powers of their digits."
   ]
  },
  {
   "cell_type": "code",
   "execution_count": 41,
   "metadata": {},
   "outputs": [
    {
     "name": "stdout",
     "output_type": "stream",
     "text": [
      "0 0\n",
      "1 59049\n",
      "2 118098\n",
      "3 177147\n",
      "4 236196\n",
      "5 295245\n",
      "6 354294\n",
      "7 413343\n",
      "8 472392\n",
      "9 531441\n"
     ]
    }
   ],
   "source": [
    "\"\"\"\n",
    "From here, we see that if all 6 digits of '9', the sum will be less than 355000. \n",
    "\n",
    "This is the limit, since if we have 7 digits, the sum of the digits is still 6 digits.\n",
    "\n",
    "\"\"\"\n",
    "\n",
    "for i in range (10):\n",
    "    print (i, 9**5*i)\n"
   ]
  },
  {
   "cell_type": "code",
   "execution_count": 58,
   "metadata": {},
   "outputs": [],
   "source": [
    "def sum_x_power(limit, x=5):\n",
    "    shortlist=[]\n",
    "    \n",
    "    for i in range (2, limit):\n",
    "        sum_power=0\n",
    "        i_char=str(i)\n",
    "        j=0\n",
    "        while j<len(i_char):\n",
    "            sum_power+=int(i_char[j])**5\n",
    "            j+=1\n",
    "        if sum_power==i:\n",
    "            shortlist.append(sum_power)\n",
    "        #print (i, sum_power)\n",
    "\n",
    "    return shortlist\n",
    "shortlist=sum_x_power(355000)"
   ]
  },
  {
   "cell_type": "code",
   "execution_count": 59,
   "metadata": {},
   "outputs": [
    {
     "data": {
      "text/plain": [
       "[4150, 4151, 54748, 92727, 93084, 194979]"
      ]
     },
     "execution_count": 59,
     "metadata": {},
     "output_type": "execute_result"
    }
   ],
   "source": [
    "shortlist"
   ]
  },
  {
   "cell_type": "code",
   "execution_count": 60,
   "metadata": {},
   "outputs": [
    {
     "data": {
      "text/plain": [
       "443839"
      ]
     },
     "execution_count": 60,
     "metadata": {},
     "output_type": "execute_result"
    }
   ],
   "source": [
    "sum(shortlist)"
   ]
  },
  {
   "cell_type": "code",
   "execution_count": null,
   "metadata": {},
   "outputs": [],
   "source": []
  }
 ],
 "metadata": {
  "kernelspec": {
   "display_name": "Python 3",
   "language": "python",
   "name": "python3"
  },
  "language_info": {
   "codemirror_mode": {
    "name": "ipython",
    "version": 3
   },
   "file_extension": ".py",
   "mimetype": "text/x-python",
   "name": "python",
   "nbconvert_exporter": "python",
   "pygments_lexer": "ipython3",
   "version": "3.5.0"
  }
 },
 "nbformat": 4,
 "nbformat_minor": 2
}
