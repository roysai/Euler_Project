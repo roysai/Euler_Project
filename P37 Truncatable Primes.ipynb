{
 "cells": [
  {
   "cell_type": "markdown",
   "metadata": {},
   "source": [
    "The number 3797 has an interesting property. Being prime itself, it is possible to continuously remove digits from left to right, and remain prime at each stage: 3797, 797, 97, and 7. Similarly we can work from right to left: 3797, 379, 37, and 3.\n",
    "\n",
    "Find the sum of the only eleven primes that are both truncatable from left to right and right to left.\n",
    "\n",
    "NOTE: 2, 3, 5, and 7 are not considered to be truncatable primes."
   ]
  },
  {
   "cell_type": "code",
   "execution_count": 4,
   "metadata": {},
   "outputs": [],
   "source": [
    "def prime_sieve(limit):\n",
    "    primes=[True]*limit\n",
    "    primes[0]=primes[1]=False\n",
    "\n",
    "    for num in range (2, limit):\n",
    "        if primes[num]==True:\n",
    "            for j in range (num*num, limit, num):\n",
    "                primes[j]=False\n",
    "    return primes\n",
    "primes=prime_sieve(int(1e6))"
   ]
  },
  {
   "cell_type": "code",
   "execution_count": 20,
   "metadata": {},
   "outputs": [],
   "source": [
    "def is_truncated_prime(prime):\n",
    "\n",
    "    fprime=str(prime)[1:]\n",
    "    bprime=str(prime)[:-1]\n",
    "    \n",
    "    for _ in range (len(fprime)):\n",
    "        if  primes[int(fprime)] and primes[int(bprime)]:\n",
    "            fprime=fprime[1:]\n",
    "            bprime=bprime[:-1]\n",
    "        else:\n",
    "            return False\n",
    "    return True               "
   ]
  },
  {
   "cell_type": "code",
   "execution_count": 25,
   "metadata": {},
   "outputs": [],
   "source": [
    "def find_truncated_prime(prime_lst, count=11):\n",
    "    truncated=[]\n",
    "    i=12\n",
    "    while len(truncated)<count or i<1e6:\n",
    "        if prime_lst[i]==True and is_truncated_prime(i):\n",
    "            truncated.append(i)\n",
    "        i+=1\n",
    "    return truncated"
   ]
  },
  {
   "cell_type": "code",
   "execution_count": 27,
   "metadata": {},
   "outputs": [],
   "source": [
    "truncated=find_truncated_prime(primes)"
   ]
  },
  {
   "cell_type": "code",
   "execution_count": 28,
   "metadata": {},
   "outputs": [
    {
     "data": {
      "text/plain": [
       "748317"
      ]
     },
     "execution_count": 28,
     "metadata": {},
     "output_type": "execute_result"
    }
   ],
   "source": [
    "sum(truncated)"
   ]
  },
  {
   "cell_type": "code",
   "execution_count": null,
   "metadata": {},
   "outputs": [],
   "source": []
  }
 ],
 "metadata": {
  "kernelspec": {
   "display_name": "Python 3",
   "language": "python",
   "name": "python3"
  },
  "language_info": {
   "codemirror_mode": {
    "name": "ipython",
    "version": 3
   },
   "file_extension": ".py",
   "mimetype": "text/x-python",
   "name": "python",
   "nbconvert_exporter": "python",
   "pygments_lexer": "ipython3",
   "version": "3.5.0"
  }
 },
 "nbformat": 4,
 "nbformat_minor": 2
}
