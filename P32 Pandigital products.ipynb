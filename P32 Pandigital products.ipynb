{
 "cells": [
  {
   "cell_type": "markdown",
   "metadata": {},
   "source": [
    "We shall say that an n-digit number is pandigital if it makes use of all the digits 1 to n exactly once; for example, the 5-digit number, 15234, is 1 through 5 pandigital.\n",
    "\n",
    "The product 7254 is unusual, as the identity, 39 × 186 = 7254, containing multiplicand, multiplier, and product is 1 through 9 pandigital.\n",
    "\n",
    "Find the sum of all products whose multiplicand/multiplier/product identity can be written as a 1 through 9 pandigital.\n",
    "\n",
    "HINT: Some products can be obtained in more than one way so be sure to only include it once in your sum."
   ]
  },
  {
   "cell_type": "code",
   "execution_count": 1,
   "metadata": {},
   "outputs": [],
   "source": [
    "import time\n",
    "\n",
    "start=time.time()"
   ]
  },
  {
   "cell_type": "code",
   "execution_count": 13,
   "metadata": {},
   "outputs": [],
   "source": [
    "multiplicand=[]\n",
    "iteration=0\n",
    "for tens in range (0, 10):\n",
    "    for digits in range (1, 10):\n",
    "        if tens!=digits:\n",
    "            multiplicand.append([tens, digits])\n",
    "        iteration+=1\n",
    "\n",
    "       \n"
   ]
  },
  {
   "cell_type": "code",
   "execution_count": 14,
   "metadata": {},
   "outputs": [],
   "source": [
    "def find_multiplier(multiplicand):\n",
    "    global iteration\n",
    "    \n",
    "    limit=10000//(multiplicand[0]*10+multiplicand[1])\n",
    "    #limit=999\n",
    "    lier_lst=[]\n",
    "        \n",
    "    for i, lier in enumerate(list(range (123, limit+1))):\n",
    "        #print (lier)\n",
    "        thousands=lier//1000\n",
    "        hundreds=lier%1000//100\n",
    "        tens=lier%100//10\n",
    "        digits=lier%10\n",
    "        if(digits!=hundreds and\n",
    "           digits!=tens and\n",
    "           tens!=hundreds and\n",
    "           hundreds not in multiplicand and\n",
    "           tens not in multiplicand and\n",
    "           digits not in multiplicand):\n",
    "            lier_lst.append([thousands, hundreds, tens, digits])\n",
    "        iteration+=1\n",
    "                \n",
    "    return lier_lst\n",
    "\n",
    "multiplier=[find_multiplier(cand) for cand in multiplicand]\n",
    "\n",
    "\n",
    "        \n"
   ]
  },
  {
   "cell_type": "code",
   "execution_count": 15,
   "metadata": {},
   "outputs": [],
   "source": [
    "def product_is_pandigital(A, B):\n",
    "    global iteration\n",
    "    if len(B)==0:\n",
    "        return []\n",
    "    pandigital=[]\n",
    "    for b in B:\n",
    "        product_num=(A[0]*10+A[1])*(b[0]*1000+b[1]*100+b[2]*10+b[3])\n",
    "        \n",
    "        product_digit=[product_num//1000, product_num%1000//100, product_num%100//10, product_num%10]\n",
    "        \n",
    "        \n",
    "        unique=product_digit+A+b\n",
    "        while 0 in unique:\n",
    "            unique.remove(0)\n",
    "            iteration+=1\n",
    "        #print (unique)\n",
    "        if len(list(set(unique)))==9 and max(unique)==9:\n",
    "            #print (product_num, A, b)\n",
    "            pandigital.append(product_num)\n",
    "        iteration+=1\n",
    "    return pandigital\n",
    "        \n",
    "\n",
    "#pandigital_product=[product_is_pandigital(multiplicand[i], multiplier[i]) for i in range (len(multiplicand))]\n",
    "    "
   ]
  },
  {
   "cell_type": "code",
   "execution_count": 16,
   "metadata": {
    "scrolled": true
   },
   "outputs": [
    {
     "data": {
      "text/plain": [
       "[6952, 7852, 5796, 5346, 5346, 4396, 7254, 5796, 7632]"
      ]
     },
     "execution_count": 16,
     "metadata": {},
     "output_type": "execute_result"
    }
   ],
   "source": [
    "pandigital=[]\n",
    "for i in range (len(multiplicand)):\n",
    "    pandigital.extend(product_is_pandigital(multiplicand[i], multiplier[i]))\n",
    "    iteration+=1\n",
    "pandigital"
   ]
  },
  {
   "cell_type": "code",
   "execution_count": 6,
   "metadata": {},
   "outputs": [
    {
     "data": {
      "text/plain": [
       "45228"
      ]
     },
     "execution_count": 6,
     "metadata": {},
     "output_type": "execute_result"
    }
   ],
   "source": [
    "sum(list(set(pandigital)))"
   ]
  },
  {
   "cell_type": "code",
   "execution_count": 17,
   "metadata": {},
   "outputs": [
    {
     "data": {
      "text/plain": [
       "68916"
      ]
     },
     "execution_count": 17,
     "metadata": {},
     "output_type": "execute_result"
    }
   ],
   "source": [
    "iteration"
   ]
  },
  {
   "cell_type": "code",
   "execution_count": 18,
   "metadata": {},
   "outputs": [
    {
     "name": "stdout",
     "output_type": "stream",
     "text": [
      "45228\n",
      "13496\n"
     ]
    }
   ],
   "source": [
    "start=time.time()\n",
    "\n",
    "temp=[]\n",
    "for a in range(999):\n",
    "        for b in range(9999):\n",
    "                c=a*b\n",
    "                acc= str(a)+str(b)+str(c)\n",
    "                if len(acc)>9:break         \n",
    "                lst=[int(x) for x in str(acc)]\n",
    "                if sum(lst)==45:\n",
    "                        acc=True\n",
    "                        lst.sort()\n",
    "                        for i in range(8):\n",
    "                                acc=acc and (lst[i+1]==lst[i]+1)\n",
    "                                iteration2+=1\n",
    "                                \n",
    "                        if acc:\n",
    "                                temp.append(c)\n",
    "ans=[]\n",
    "[ans.append(y) for y in temp if y not in ans]\n",
    "print (sum(ans))\n",
    "\n"
   ]
  },
  {
   "cell_type": "code",
   "execution_count": null,
   "metadata": {},
   "outputs": [],
   "source": []
  }
 ],
 "metadata": {
  "kernelspec": {
   "display_name": "Python 3",
   "language": "python",
   "name": "python3"
  },
  "language_info": {
   "codemirror_mode": {
    "name": "ipython",
    "version": 3
   },
   "file_extension": ".py",
   "mimetype": "text/x-python",
   "name": "python",
   "nbconvert_exporter": "python",
   "pygments_lexer": "ipython3",
   "version": "3.5.0"
  }
 },
 "nbformat": 4,
 "nbformat_minor": 2
}
