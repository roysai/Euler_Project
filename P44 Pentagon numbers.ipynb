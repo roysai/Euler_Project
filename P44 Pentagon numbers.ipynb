{
 "cells": [
  {
   "cell_type": "code",
   "execution_count": 54,
   "metadata": {},
   "outputs": [],
   "source": [
    "def solution():\n",
    "    pentagon=[1,5]\n",
    "    diff=4\n",
    "    n=3\n",
    "    \n",
    "    while True:\n",
    "    \n",
    "        new_num=int(n*(3*n-1)/2)\n",
    "        pentagon.append(new_num)\n",
    "        n+=1\n",
    "        \n",
    "        #if n%100==0:\n",
    "        #    print (n)\n",
    "        \n",
    "        for i in range (len(pentagon)):\n",
    "            diff=new_num-pentagon[i]\n",
    "            if diff in pentagon and (diff-pentagon[i]) in pentagon and diff!=pentagon[i]:\n",
    "                return diff-pentagon[i]\n",
    "                "
   ]
  },
  {
   "cell_type": "code",
   "execution_count": 55,
   "metadata": {},
   "outputs": [
    {
     "name": "stdout",
     "output_type": "stream",
     "text": [
      "5482660\n"
     ]
    }
   ],
   "source": [
    "print (solution())"
   ]
  },
  {
   "cell_type": "code",
   "execution_count": null,
   "metadata": {},
   "outputs": [],
   "source": []
  },
  {
   "cell_type": "code",
   "execution_count": null,
   "metadata": {},
   "outputs": [],
   "source": []
  },
  {
   "cell_type": "code",
   "execution_count": null,
   "metadata": {},
   "outputs": [],
   "source": []
  }
 ],
 "metadata": {
  "kernelspec": {
   "display_name": "Python 3",
   "language": "python",
   "name": "python3"
  },
  "language_info": {
   "codemirror_mode": {
    "name": "ipython",
    "version": 3
   },
   "file_extension": ".py",
   "mimetype": "text/x-python",
   "name": "python",
   "nbconvert_exporter": "python",
   "pygments_lexer": "ipython3",
   "version": "3.5.0"
  }
 },
 "nbformat": 4,
 "nbformat_minor": 2
}
