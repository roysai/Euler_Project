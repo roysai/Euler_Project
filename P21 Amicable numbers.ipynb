{
 "cells": [
  {
   "cell_type": "code",
   "execution_count": 10,
   "metadata": {},
   "outputs": [],
   "source": [
    "def find_factor(N): #excluding its ownself e.g. find_factor(8) return [1,2,4]\n",
    "    \n",
    "    if N==1:\n",
    "        return [1]\n",
    "    \n",
    "    elif N<=3:\n",
    "        return [1, N]\n",
    "    \n",
    "    root=int(N**(0.5))\n",
    "    factor=[1]\n",
    "    \n",
    "    for i in range (2, root):\n",
    "    \n",
    "        if N%i==0:\n",
    "            factor.append(i)\n",
    "    \n",
    "    \n",
    "    for j in range(1,len(factor)):\n",
    "    \n",
    "        factor.append(int(N/factor[j]))\n",
    "    if N%root==0:\n",
    "    \n",
    "        factor.append(root)\n",
    "    \n",
    "    return factor"
   ]
  },
  {
   "cell_type": "code",
   "execution_count": 52,
   "metadata": {},
   "outputs": [],
   "source": [
    "def find_sum_factor(num):\n",
    "    factors=find_factor(num)\n",
    "    return sum(factors)\n",
    "\n",
    "def find_amicable(N):\n",
    "    #set sum_factor into list\n",
    "    sum_fac_list=[0]*(N+1)\n",
    "    sum_fac_list[1:4]=[0,1,1]\n",
    "    num=4\n",
    "    amicable=[]\n",
    "    while num<=N:\n",
    "        sum_fac=find_sum_factor(num)\n",
    "        \n",
    "        if sum_fac>N:\n",
    "            num+=1\n",
    "            continue\n",
    "        else:\n",
    "            sum_fac_list[num]=sum_fac\n",
    "            if sum_fac_list[sum_fac]==num and sum_fac_list[num]!=num:\n",
    "                amicable.append(num)\n",
    "        \n",
    "        num+=1\n",
    "    for i in range(len(amicable)):\n",
    "        amicable.append(find_sum_factor(amicable[i]))\n",
    "    return amicable\n",
    "    "
   ]
  },
  {
   "cell_type": "code",
   "execution_count": 53,
   "metadata": {},
   "outputs": [
    {
     "name": "stdout",
     "output_type": "stream",
     "text": [
      "[284, 1210, 2924, 5564, 6368, 220, 1184, 2620, 5020, 6232]\n"
     ]
    },
    {
     "data": {
      "text/plain": [
       "31626"
      ]
     },
     "execution_count": 53,
     "metadata": {},
     "output_type": "execute_result"
    }
   ],
   "source": [
    "amicable=find_amicable(10000)\n",
    "print (amicable)\n",
    "sum(amicable)"
   ]
  },
  {
   "cell_type": "code",
   "execution_count": 38,
   "metadata": {},
   "outputs": [
    {
     "data": {
      "text/plain": [
       "284"
      ]
     },
     "execution_count": 38,
     "metadata": {},
     "output_type": "execute_result"
    }
   ],
   "source": []
  },
  {
   "cell_type": "code",
   "execution_count": null,
   "metadata": {},
   "outputs": [],
   "source": []
  }
 ],
 "metadata": {
  "kernelspec": {
   "display_name": "Python 3",
   "language": "python",
   "name": "python3"
  },
  "language_info": {
   "codemirror_mode": {
    "name": "ipython",
    "version": 3
   },
   "file_extension": ".py",
   "mimetype": "text/x-python",
   "name": "python",
   "nbconvert_exporter": "python",
   "pygments_lexer": "ipython3",
   "version": "3.5.0"
  }
 },
 "nbformat": 4,
 "nbformat_minor": 2
}
