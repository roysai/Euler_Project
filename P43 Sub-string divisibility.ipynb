{
 "cells": [
  {
   "cell_type": "markdown",
   "metadata": {},
   "source": [
    "The number, 1406357289, is a 0 to 9 pandigital number because it is made up of each of the digits 0 to 9 in some order, but it also has a rather interesting sub-string divisibility property.\n",
    "\n",
    "Let d1 be the 1st digit, d2 be the 2nd digit, and so on. In this way, we note the following:\n",
    "\n",
    "d2d3d4=406 is divisible by 2\n",
    "d3d4d5=063 is divisible by 3\n",
    "d4d5d6=635 is divisible by 5\n",
    "d5d6d7=357 is divisible by 7\n",
    "d6d7d8=572 is divisible by 11\n",
    "d7d8d9=728 is divisible by 13\n",
    "d8d9d10=289 is divisible by 17\n",
    "Find the sum of all 0 to 9 pandigital numbers with this property."
   ]
  },
  {
   "cell_type": "code",
   "execution_count": 15,
   "metadata": {},
   "outputs": [],
   "source": [
    "\n",
    "from itertools import permutations\n",
    "def find_pandigital_num(limit):\n",
    "    num=''\n",
    "    for i in range (limit+1):\n",
    "        num+=str(i)\n",
    "        \n",
    "    iter_num=[''.join(p) for p in permutations(num) if p[0]!='0']\n",
    "    iter_num=set(iter_num)\n",
    "    return iter_num\n",
    "\n",
    "def divisibility(num):\n",
    "    for i in range (7):\n",
    "        #print (int(num[i+1:i+4]), primes[i], int(num[i+1:i+4])%primes[i])\n",
    "        if int(num[i+1:i+4])%primes[i]!=0:\n",
    "            return False\n",
    "    return True\n",
    "        \n",
    "    \n",
    "\n"
   ]
  },
  {
   "cell_type": "code",
   "execution_count": 19,
   "metadata": {},
   "outputs": [
    {
     "name": "stdout",
     "output_type": "stream",
     "text": [
      "[1430952867, 4160357289, 1460357289, 1406357289, 4130952867, 4106357289]\n",
      "16695334890\n"
     ]
    }
   ],
   "source": [
    "primes=[2,3,5,7,11,13,17]\n",
    "sub_string=[]\n",
    "pandigital_num=find_pandigital_num(9)\n",
    "\n",
    "for num in pandigital_num:\n",
    "    if divisibility(num):\n",
    "        sub_string.append(int(num))\n",
    "print (sub_string)\n",
    "print (sum(sub_string))"
   ]
  },
  {
   "cell_type": "code",
   "execution_count": 20,
   "metadata": {},
   "outputs": [
    {
     "name": "stdout",
     "output_type": "stream",
     "text": [
      "16695334890\n"
     ]
    }
   ],
   "source": [
    "#method found online\n",
    "\n",
    "from itertools import permutations\n",
    "\n",
    "primes = (2, 3, 5, 7, 11, 13, 17)\n",
    "sum = 0\n",
    "for p in permutations('0123456789'):\n",
    "    if p[0]=='0':\n",
    "        continue\n",
    "    if all(int(''.join(p[a+1:a+4]))%primes[a]==0 for a in range(7)):\n",
    "        sum += int(''.join(p))\n",
    "print(sum)"
   ]
  },
  {
   "cell_type": "code",
   "execution_count": null,
   "metadata": {},
   "outputs": [],
   "source": []
  }
 ],
 "metadata": {
  "kernelspec": {
   "display_name": "Python 3",
   "language": "python",
   "name": "python3"
  },
  "language_info": {
   "codemirror_mode": {
    "name": "ipython",
    "version": 3
   },
   "file_extension": ".py",
   "mimetype": "text/x-python",
   "name": "python",
   "nbconvert_exporter": "python",
   "pygments_lexer": "ipython3",
   "version": "3.5.0"
  }
 },
 "nbformat": 4,
 "nbformat_minor": 2
}
