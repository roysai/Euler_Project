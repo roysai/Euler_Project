{
 "cells": [
  {
   "cell_type": "markdown",
   "metadata": {},
   "source": [
    "It was proposed by Christian Goldbach that every odd composite number can be written as the sum of a prime and twice a square.\n",
    "\n",
    "9 = 7 + 2×12\n",
    "15 = 7 + 2×22\n",
    "21 = 3 + 2×32\n",
    "25 = 7 + 2×32\n",
    "27 = 19 + 2×22\n",
    "33 = 31 + 2×12\n",
    "\n",
    "It turns out that the conjecture was false.\n",
    "\n",
    "What is the smallest odd composite that cannot be written as the sum of a prime and twice a square?"
   ]
  },
  {
   "cell_type": "code",
   "execution_count": 17,
   "metadata": {},
   "outputs": [],
   "source": [
    "def prime(limit):\n",
    "    lst=[True]*limit\n",
    "    for i in range (2, limit):\n",
    "        if lst[i]:\n",
    "            for j in range (i*i, limit, i):\n",
    "                lst[j]=False\n",
    "                \n",
    "    return lst\n",
    "\n",
    "def square(limit):\n",
    "    lst=[1]\n",
    "    i=2\n",
    "    while lst[-1]<=limit:\n",
    "        lst.append(i**2)\n",
    "        i+=1\n",
    "    return lst"
   ]
  },
  {
   "cell_type": "code",
   "execution_count": 19,
   "metadata": {},
   "outputs": [],
   "source": [
    "prime_lst=prime(int(1e6))\n",
    "square_lst=square(int(1e6))"
   ]
  },
  {
   "cell_type": "code",
   "execution_count": 63,
   "metadata": {},
   "outputs": [],
   "source": [
    "def golbach(num):\n",
    "    for i in range (num, 1, -1):\n",
    "        root=int((num/2)**0.5)\n",
    "        for j in range (root):\n",
    "            remainder=num-2*square_lst[j]\n",
    "            #print (remainder, num, square_lst[j], 2*square_lst[j])\n",
    "            if prime_lst[remainder]:\n",
    "                return True\n",
    "    return False\n",
    "        "
   ]
  },
  {
   "cell_type": "code",
   "execution_count": 65,
   "metadata": {},
   "outputs": [
    {
     "name": "stdout",
     "output_type": "stream",
     "text": [
      "5777\n"
     ]
    }
   ],
   "source": [
    "for i in range (3, len(prime_lst), 2):\n",
    "    if prime_lst[i]== False and golbach(i)== False:\n",
    "        print (i)\n",
    "        break"
   ]
  },
  {
   "cell_type": "code",
   "execution_count": null,
   "metadata": {},
   "outputs": [],
   "source": []
  },
  {
   "cell_type": "code",
   "execution_count": null,
   "metadata": {},
   "outputs": [],
   "source": []
  },
  {
   "cell_type": "code",
   "execution_count": null,
   "metadata": {},
   "outputs": [],
   "source": []
  },
  {
   "cell_type": "code",
   "execution_count": null,
   "metadata": {},
   "outputs": [],
   "source": []
  }
 ],
 "metadata": {
  "kernelspec": {
   "display_name": "Python 3",
   "language": "python",
   "name": "python3"
  },
  "language_info": {
   "codemirror_mode": {
    "name": "ipython",
    "version": 3
   },
   "file_extension": ".py",
   "mimetype": "text/x-python",
   "name": "python",
   "nbconvert_exporter": "python",
   "pygments_lexer": "ipython3",
   "version": "3.5.0"
  }
 },
 "nbformat": 4,
 "nbformat_minor": 2
}
