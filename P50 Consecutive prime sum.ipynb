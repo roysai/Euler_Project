{
 "cells": [
  {
   "cell_type": "markdown",
   "metadata": {},
   "source": [
    "The prime 41, can be written as the sum of six consecutive primes:\n",
    "\n",
    "41 = 2 + 3 + 5 + 7 + 11 + 13\n",
    "This is the longest sum of consecutive primes that adds to a prime below one-hundred.\n",
    "\n",
    "The longest sum of consecutive primes below one-thousand that adds to a prime, contains 21 terms, and is equal to 953.\n",
    "\n",
    "Which prime, below one-million, can be written as the sum of the most consecutive primes?"
   ]
  },
  {
   "cell_type": "code",
   "execution_count": 132,
   "metadata": {},
   "outputs": [],
   "source": [
    "def find_primes(limit):\n",
    "    is_prime=[1]*(limit+1)\n",
    "    is_prime[1]=0\n",
    "    prime_num=[]\n",
    "    for i in range (2, limit+1):\n",
    "        if is_prime[i]==0:\n",
    "            continue\n",
    "        else:\n",
    "            for j in range (i*i, limit+1, i):\n",
    "                is_prime[j]=0\n",
    "        \n",
    "    for k in range (1, limit+1):\n",
    "        if is_prime[k]==1:\n",
    "            prime_num.append(k)\n",
    "    \n",
    "    return prime_num, is_prime\n",
    "\n",
    "def longest_prime(start, limit):\n",
    "    lst_sum=0\n",
    "    start-=1\n",
    "    \n",
    "    if prime_lst[start]==2:\n",
    "        i=4\n",
    "    else:\n",
    "        i=start+1\n",
    "    \n",
    "    #print (start, i)\n",
    "    \n",
    "    \n",
    "    count=0\n",
    "    prime_num=0\n",
    "    while lst_sum<=limit:\n",
    "        a=prime_lst[start:i]\n",
    "        lst_sum=sum(a)\n",
    "        if lst_sum<=limit and is_prime[lst_sum]:\n",
    "            count=len(a)\n",
    "            prime_num=lst_sum\n",
    "            #print (a, lst_sum, count)\n",
    "        i+=2\n",
    "        #\n",
    "    return count, prime_num\n",
    "        "
   ]
  },
  {
   "cell_type": "code",
   "execution_count": 148,
   "metadata": {},
   "outputs": [
    {
     "name": "stdout",
     "output_type": "stream",
     "text": [
      "543 997651 4\n",
      "0.5790331363677979\n"
     ]
    }
   ],
   "source": [
    "import time\n",
    "\n",
    "start_time=time.time()\n",
    "limit=int (1e6)\n",
    "prime_lst, is_prime=find_primes(limit)\n",
    "\n",
    "count_longest=0\n",
    "prime_num_longest=0\n",
    "start=0\n",
    "for i in range (1, 5):\n",
    "    count, prime_num=longest_prime(i, limit)\n",
    "    if count>count_longest:\n",
    "        count_longest=count\n",
    "        prime_num_longest=prime_num\n",
    "        start=i\n",
    "        \n",
    "print (count_longest, prime_num_longest, start)\n",
    "print (time.time()-start_time)"
   ]
  },
  {
   "cell_type": "code",
   "execution_count": 147,
   "metadata": {},
   "outputs": [
    {
     "data": {
      "text/plain": [
       "1537415643.6822727"
      ]
     },
     "execution_count": 147,
     "metadata": {},
     "output_type": "execute_result"
    }
   ],
   "source": [
    "\n"
   ]
  },
  {
   "cell_type": "code",
   "execution_count": null,
   "metadata": {},
   "outputs": [],
   "source": []
  }
 ],
 "metadata": {
  "kernelspec": {
   "display_name": "Python 3",
   "language": "python",
   "name": "python3"
  },
  "language_info": {
   "codemirror_mode": {
    "name": "ipython",
    "version": 3
   },
   "file_extension": ".py",
   "mimetype": "text/x-python",
   "name": "python",
   "nbconvert_exporter": "python",
   "pygments_lexer": "ipython3",
   "version": "3.5.0"
  }
 },
 "nbformat": 4,
 "nbformat_minor": 2
}
