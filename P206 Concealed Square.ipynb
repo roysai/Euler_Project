{
 "cells": [
  {
   "cell_type": "markdown",
   "metadata": {},
   "source": [
    "Find the unique positive integer whose square has the form 1_2_3_4_5_6_7_8_9_0,\n",
    "where each “_” is a single digit."
   ]
  },
  {
   "cell_type": "code",
   "execution_count": 19,
   "metadata": {},
   "outputs": [
    {
     "name": "stdout",
     "output_type": "stream",
     "text": [
      "1389026623 1010101010 378925613\n"
     ]
    }
   ],
   "source": [
    "root_max=int(1929394959697989900**0.5)\n",
    "root_min=int(1020304050607080900**0.5)\n",
    "print(root_max, root_min, root_max-root_min)"
   ]
  },
  {
   "cell_type": "code",
   "execution_count": 24,
   "metadata": {},
   "outputs": [
    {
     "name": "stdout",
     "output_type": "stream",
     "text": [
      "1389019170\n"
     ]
    }
   ],
   "source": [
    "i=1010101030\n",
    "while True:\n",
    "    square=str(i*i)\n",
    "    \n",
    "    if i%10000000==0:\n",
    "        print(i)\n",
    "    \n",
    "    if (square[0]=='1' and\n",
    "        square[2]=='2' and\n",
    "        square[4]=='3' and\n",
    "        square[6]=='4' and\n",
    "        square[8]=='5' and\n",
    "        square[10]=='6' and\n",
    "        square[12]=='7' and\n",
    "        square[14]=='8' and\n",
    "        square[16]=='9' and\n",
    "        square[18]=='0'):\n",
    "        print (i)\n",
    "        break\n",
    "    if i%100==30:\n",
    "        i+=40\n",
    "    else:\n",
    "        i+=60"
   ]
  },
  {
   "cell_type": "code",
   "execution_count": null,
   "metadata": {},
   "outputs": [],
   "source": []
  }
 ],
 "metadata": {
  "kernelspec": {
   "display_name": "Python 3",
   "language": "python",
   "name": "python3"
  },
  "language_info": {
   "codemirror_mode": {
    "name": "ipython",
    "version": 3
   },
   "file_extension": ".py",
   "mimetype": "text/x-python",
   "name": "python",
   "nbconvert_exporter": "python",
   "pygments_lexer": "ipython3",
   "version": "3.5.0"
  }
 },
 "nbformat": 4,
 "nbformat_minor": 2
}
