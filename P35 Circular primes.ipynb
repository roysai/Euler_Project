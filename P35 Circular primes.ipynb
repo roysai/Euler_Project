{
 "cells": [
  {
   "cell_type": "markdown",
   "metadata": {},
   "source": [
    "The number, 197, is called a circular prime because all rotations of the digits: 197, 971, and 719, are themselves prime.\n",
    "\n",
    "There are thirteen such primes below 100: 2, 3, 5, 7, 11, 13, 17, 31, 37, 71, 73, 79, and 97.\n",
    "\n",
    "How many circular primes are there below one million?"
   ]
  },
  {
   "cell_type": "code",
   "execution_count": 50,
   "metadata": {},
   "outputs": [],
   "source": [
    "def find_prime(lowerlimit, upperlimit):\n",
    "    primes=[]\n",
    "    \n",
    "    if upperlimit<2:\n",
    "        return None\n",
    "    \n",
    "    for num in range (max(2, lowerlimit),upperlimit+1):\n",
    "        root_num=int(num**0.5)+1\n",
    "        for i in range (2, root_num):\n",
    "            if num%i==0:\n",
    "                break\n",
    "        else:\n",
    "            primes.append(num)\n",
    "        \n",
    "    return primes\n",
    "\n",
    "#print (a)"
   ]
  },
  {
   "cell_type": "code",
   "execution_count": 51,
   "metadata": {
    "scrolled": true
   },
   "outputs": [],
   "source": [
    "def slice_prime_lst(lst):\n",
    "    output0=[]\n",
    "    output1=[]\n",
    "    output2=[]\n",
    "    output3=[]\n",
    "    output4=[]\n",
    "    output5=[]\n",
    "    \n",
    "    \n",
    "    for num in lst:\n",
    "        \n",
    "        if num <10:\n",
    "            output0.append(num)\n",
    "        elif num<100:\n",
    "            output1.append(num)\n",
    "        elif num<1000:\n",
    "            output2.append(num)\n",
    "        elif num<10000:\n",
    "            output3.append(num)\n",
    "        elif num<100000:\n",
    "            output4.append(num)\n",
    "        elif num<1000000:\n",
    "            output5.append(num)\n",
    "       \n",
    "    return [output0, output1, output2, output3, output4, output5]\n",
    "\n",
    "\n",
    "def is_circular(num):\n",
    "    num=str(num)\n",
    "    m= len(num)\n",
    "    for i in range (m):\n",
    "        if primeWithinMillion2[int(num[i:]+num[:i])]==False:\n",
    "            return False\n",
    "    return True\n",
    "prime_lst=slice_prime_lst(primeWithinMillion)\n"
   ]
  },
  {
   "cell_type": "code",
   "execution_count": 52,
   "metadata": {},
   "outputs": [],
   "source": [
    "import itertools\n",
    "def is_circular(num):\n",
    "    num=str(num)\n",
    "    perms=[''.join(p) for p in itertools.permutations(num)]\n",
    "    #print (perms)\n",
    "    for perm in perms:\n",
    "        if int(perm) not in prime_lst[len(num)-1]:\n",
    "            return False\n",
    "    return True"
   ]
  },
  {
   "cell_type": "code",
   "execution_count": 101,
   "metadata": {},
   "outputs": [
    {
     "name": "stdout",
     "output_type": "stream",
     "text": [
      "55 15.114603757858276\n"
     ]
    }
   ],
   "source": [
    "import time\n",
    "\n",
    "start=time.time()\n",
    "primeWithinMillion=find_prime(1, int(1e6))\n",
    "prime_lst=slice_prime_lst(primeWithinMillion)\n",
    "count=0\n",
    "for prime in primeWithinMillion:\n",
    "    if is_circular(prime):\n",
    "        count+=1\n",
    "        #print (prime)\n",
    "print (count, time.time()-start)"
   ]
  },
  {
   "cell_type": "code",
   "execution_count": 63,
   "metadata": {},
   "outputs": [],
   "source": [
    "def prime_sieve(limit):\n",
    "    primes=[True]*limit\n",
    "    primes[0]=primes[1]=False\n",
    "\n",
    "    for num in range (2, limit):\n",
    "        if primes[num]==True:\n",
    "            for j in range (num*num, limit, num):\n",
    "                primes[j]=False\n",
    "    return primes\n",
    "primes=prime_sieve(100)\n",
    "primeWithinMillion2=prime_sieve(int(1e6))"
   ]
  },
  {
   "cell_type": "code",
   "execution_count": 103,
   "metadata": {},
   "outputs": [
    {
     "name": "stdout",
     "output_type": "stream",
     "text": [
      "total circular is  55\n",
      "0.2790074348449707\n"
     ]
    }
   ],
   "source": [
    "start=time.time()\n",
    "count=0\n",
    "for prime in primeWithinMillion:\n",
    "    if is_circular(prime):\n",
    "        #print (prime)\n",
    "        count+=1\n",
    "print ('total circular is ', count)\n",
    "print (time.time()-start)\n"
   ]
  },
  {
   "cell_type": "code",
   "execution_count": null,
   "metadata": {},
   "outputs": [],
   "source": []
  }
 ],
 "metadata": {
  "kernelspec": {
   "display_name": "Python 3",
   "language": "python",
   "name": "python3"
  },
  "language_info": {
   "codemirror_mode": {
    "name": "ipython",
    "version": 3
   },
   "file_extension": ".py",
   "mimetype": "text/x-python",
   "name": "python",
   "nbconvert_exporter": "python",
   "pygments_lexer": "ipython3",
   "version": "3.5.0"
  }
 },
 "nbformat": 4,
 "nbformat_minor": 2
}
