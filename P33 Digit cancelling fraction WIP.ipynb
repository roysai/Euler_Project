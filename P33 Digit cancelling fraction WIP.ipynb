{
 "cells": [
  {
   "cell_type": "code",
   "execution_count": 24,
   "metadata": {},
   "outputs": [
    {
     "ename": "SyntaxError",
     "evalue": "invalid syntax (<ipython-input-24-4db6658adde4>, line 16)",
     "output_type": "error",
     "traceback": [
      "\u001b[1;36m  File \u001b[1;32m\"<ipython-input-24-4db6658adde4>\"\u001b[1;36m, line \u001b[1;32m16\u001b[0m\n\u001b[1;33m    if numerator\u001b[0m\n\u001b[1;37m                ^\u001b[0m\n\u001b[1;31mSyntaxError\u001b[0m\u001b[1;31m:\u001b[0m invalid syntax\n"
     ]
    }
   ],
   "source": [
    "def GCD(num1, num2):\n",
    "    if num1%num2==0:\n",
    "        return num2\n",
    "    else:\n",
    "        return GCD(num2, num1%num2)\n",
    "\n",
    "def digit_cancelling_fraction(limit):\n",
    "    lst=list(range(1,10))\n",
    "    SL=[]\n",
    "    for denominator in range (11, 99):\n",
    "        deno=[denominator%10, denominator//10]\n",
    "        nume=[[num, deno[0]] for num in range(1, deno[0])]+[[deno[1], num] for num in range (1, 10)]\n",
    "        \n",
    "        for numerator in nume:\n",
    "            \n",
    "            \n",
    "            \n",
    "        \n",
    "            \n",
    "            \n",
    "    "
   ]
  },
  {
   "cell_type": "code",
   "execution_count": 25,
   "metadata": {},
   "outputs": [],
   "source": [
    "lst=list(range(1,10))\n",
    "deno=[4,2]\n",
    "nume=[[num, deno[0]] for num in range(1, deno[0])]+[[deno[1], num] for num in range (1, 10)]"
   ]
  },
  {
   "cell_type": "code",
   "execution_count": 26,
   "metadata": {},
   "outputs": [
    {
     "data": {
      "text/plain": [
       "[[1, 4],\n",
       " [2, 4],\n",
       " [3, 4],\n",
       " [2, 1],\n",
       " [2, 2],\n",
       " [2, 3],\n",
       " [2, 4],\n",
       " [2, 5],\n",
       " [2, 6],\n",
       " [2, 7],\n",
       " [2, 8],\n",
       " [2, 9]]"
      ]
     },
     "execution_count": 26,
     "metadata": {},
     "output_type": "execute_result"
    }
   ],
   "source": []
  },
  {
   "cell_type": "code",
   "execution_count": null,
   "metadata": {},
   "outputs": [],
   "source": []
  }
 ],
 "metadata": {
  "kernelspec": {
   "display_name": "Python 3",
   "language": "python",
   "name": "python3"
  },
  "language_info": {
   "codemirror_mode": {
    "name": "ipython",
    "version": 3
   },
   "file_extension": ".py",
   "mimetype": "text/x-python",
   "name": "python",
   "nbconvert_exporter": "python",
   "pygments_lexer": "ipython3",
   "version": "3.5.0"
  }
 },
 "nbformat": 4,
 "nbformat_minor": 2
}
