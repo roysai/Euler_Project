{
 "cells": [
  {
   "cell_type": "code",
   "execution_count": null,
   "metadata": {},
   "outputs": [],
   "source": [
    "You are given the following information, but you may prefer to do some research for yourself.\n",
    "\n",
    "1 Jan 1900 was a Monday.\n",
    "Thirty days has September,\n",
    "April, June and November.\n",
    "All the rest have thirty-one,\n",
    "Saving February alone,\n",
    "Which has twenty-eight, rain or shine.\n",
    "And on leap years, twenty-nine.\n",
    "A leap year occurs on any year evenly divisible by 4, but not on a century unless it is divisible by 400.\n",
    "How many Sundays fell on the first of the month during the twentieth century (1 Jan 1901 to 31 Dec 2000)?"
   ]
  },
  {
   "cell_type": "code",
   "execution_count": 5,
   "metadata": {},
   "outputs": [
    {
     "data": {
      "text/plain": [
       "True"
      ]
     },
     "execution_count": 5,
     "metadata": {},
     "output_type": "execute_result"
    }
   ],
   "source": [
    "def is_leap_year(year):\n",
    "    if year%400==0:\n",
    "        return True\n",
    "    elif year%1000==0:\n",
    "        return False\n",
    "    elif year%4==0:\n",
    "        return True\n",
    "    else:\n",
    "        return False\n",
    "\n",
    "   "
   ]
  },
  {
   "cell_type": "code",
   "execution_count": 28,
   "metadata": {
    "scrolled": true
   },
   "outputs": [
    {
     "name": "stdout",
     "output_type": "stream",
     "text": [
      "171\n"
     ]
    }
   ],
   "source": [
    "#check that 1900 is leap year or not\n",
    "leap=is_leap_year(1900)\n",
    "\n",
    "#52 weeks a year \n",
    "#check which day it is on 1 Jan 1901\n",
    "start_month_day=1+366%7\n",
    "count=0\n",
    "\n",
    "for year in range (1901, 2001):\n",
    "    if is_leap_year(year):\n",
    "        month_day=[31,29,31,30,31,30,31,31,30,31,30,31]\n",
    "    else:\n",
    "        month_day=[31,28,31,30,31,30,31,31,30,31,30,31]\n",
    "    \n",
    "    #print ('year {} => {}'.format(year, is_leap_year(year)))\n",
    "    for month in range (12):\n",
    "        start_month_day=(start_month_day+month_day[month]%7)%7\n",
    "        #print (year, month+1, start_month_day)\n",
    "        if start_month_day==0:\n",
    "            count+=1\n",
    "\n",
    "#1 Jan 2001 should not be counted\n",
    "if start_month_day==0:\n",
    "    count-=1\n",
    "print (count)\n",
    "        \n",
    "        "
   ]
  },
  {
   "cell_type": "code",
   "execution_count": 24,
   "metadata": {},
   "outputs": [
    {
     "data": {
      "text/plain": [
       "3"
      ]
     },
     "execution_count": 24,
     "metadata": {},
     "output_type": "execute_result"
    }
   ],
   "source": [
    "31%7"
   ]
  },
  {
   "cell_type": "code",
   "execution_count": null,
   "metadata": {},
   "outputs": [],
   "source": []
  }
 ],
 "metadata": {
  "kernelspec": {
   "display_name": "Python 3",
   "language": "python",
   "name": "python3"
  },
  "language_info": {
   "codemirror_mode": {
    "name": "ipython",
    "version": 3
   },
   "file_extension": ".py",
   "mimetype": "text/x-python",
   "name": "python",
   "nbconvert_exporter": "python",
   "pygments_lexer": "ipython3",
   "version": "3.5.0"
  }
 },
 "nbformat": 4,
 "nbformat_minor": 2
}
